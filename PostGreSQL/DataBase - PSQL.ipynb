{
 "cells": [
  {
   "cell_type": "markdown",
   "metadata": {},
   "source": [
    "# DataBase - PSQL"
   ]
  },
  {
   "cell_type": "code",
   "execution_count": 1,
   "metadata": {
    "scrolled": true
   },
   "outputs": [
    {
     "name": "stderr",
     "output_type": "stream",
     "text": [
      "/home/local/Desktop/py/venvs/ds/lib/python3.6/site-packages/psycopg2/__init__.py:144: UserWarning: The psycopg2 wheel package will be renamed from release 2.8; in order to keep installing from binary please use \"pip install psycopg2-binary\" instead. For details see: <http://initd.org/psycopg/docs/install.html#binary-install-from-pypi>.\n",
      "  \"\"\")\n"
     ]
    }
   ],
   "source": [
    "import csv\n",
    "import io\n",
    "import psycopg2 as psql\n",
    "from datetime import datetime\n",
    "from urllib import request"
   ]
  },
  {
   "cell_type": "markdown",
   "metadata": {},
   "source": [
    " stars (*****) - refers to your password"
   ]
  },
  {
   "cell_type": "code",
   "execution_count": 2,
   "metadata": {},
   "outputs": [],
   "source": [
    "conn = psql.connect(dbname = 'postgres', user = 'postgres', password = 'local')"
   ]
  },
  {
   "cell_type": "code",
   "execution_count": 3,
   "metadata": {},
   "outputs": [],
   "source": [
    "cur = conn.cursor()"
   ]
  },
  {
   "cell_type": "code",
   "execution_count": 4,
   "metadata": {},
   "outputs": [],
   "source": [
    "conn.autocommit = True"
   ]
  },
  {
   "cell_type": "code",
   "execution_count": 5,
   "metadata": {},
   "outputs": [],
   "source": [
    "cur.execute('CREATE DATABASE h_data')"
   ]
  },
  {
   "cell_type": "code",
   "execution_count": 6,
   "metadata": {},
   "outputs": [],
   "source": [
    "cur.execute(\"CREATE USER vipul WITH PASSWORD 'local'\")"
   ]
  },
  {
   "cell_type": "code",
   "execution_count": 7,
   "metadata": {},
   "outputs": [],
   "source": [
    "cur.execute(\"CREATE USER other WITH PASSWORD 'self'\")"
   ]
  },
  {
   "cell_type": "code",
   "execution_count": 8,
   "metadata": {},
   "outputs": [],
   "source": [
    "conn = psql.connect(dbname = 'h_data', user = 'postgres', password = 'local')"
   ]
  },
  {
   "cell_type": "code",
   "execution_count": 9,
   "metadata": {},
   "outputs": [],
   "source": [
    "conn.autocommit = True"
   ]
  },
  {
   "cell_type": "code",
   "execution_count": 10,
   "metadata": {},
   "outputs": [],
   "source": [
    "cur = conn.cursor()"
   ]
  },
  {
   "cell_type": "code",
   "execution_count": 11,
   "metadata": {},
   "outputs": [],
   "source": [
    "s = \"\"\"\n",
    "CREATE TABLE data (\n",
    "FID INTEGER PRIMARY KEY,\n",
    "TIME TIMESTAMP,\n",
    "BTID INTEGER,\n",
    "NAME VARCHAR(15),\n",
    "LAT NUMERIC(4,1),\n",
    "LONG NUMERIC(4,1),\n",
    "SPEED SMALLINT,\n",
    "PRESSURE INTEGER,\n",
    "CATEGORY VARCHAR(2),\n",
    "BASIN VARCHAR(16),\n",
    "SHAPE_LENGTH NUMERIC(8,6)\n",
    ")\n",
    "\"\"\""
   ]
  },
  {
   "cell_type": "code",
   "execution_count": 12,
   "metadata": {},
   "outputs": [],
   "source": [
    "cur.execute(s)"
   ]
  },
  {
   "cell_type": "code",
   "execution_count": 13,
   "metadata": {},
   "outputs": [
    {
     "data": {
      "text/plain": [
       "['\\ufeffFID',\n",
       " 'YEAR',\n",
       " 'MONTH',\n",
       " 'DAY',\n",
       " 'AD_TIME',\n",
       " 'BTID',\n",
       " 'NAME',\n",
       " 'LAT',\n",
       " 'LONG',\n",
       " 'WIND_KTS',\n",
       " 'PRESSURE',\n",
       " 'CAT',\n",
       " 'BASIN',\n",
       " 'Shape_Leng']"
      ]
     },
     "execution_count": 13,
     "metadata": {},
     "output_type": "execute_result"
    }
   ],
   "source": [
    "file = request.urlopen('https://dq-content.s3.amazonaws.com/251/storm_data.csv')\n",
    "read = csv.reader(io.TextIOWrapper(file))\n",
    "next(read)"
   ]
  },
  {
   "cell_type": "code",
   "execution_count": 14,
   "metadata": {},
   "outputs": [],
   "source": [
    "row = []\n",
    "for l in read:\n",
    "    t_r = datetime(int(l[1]), int(l[2]), int(l[3]), \n",
    "                   hour = int(l[4][:2]), \n",
    "                   minute = int(l[4][2:-1]))\n",
    "    line = [l[0], t_r] + l[5:]\n",
    "    row.append(\n",
    "    cur.mogrify(\n",
    "    \"(%s, %s, %s, %s, %s, %s, %s, %s, %s, %s, %s)\", \n",
    "    line).decode('utf-8'))\n",
    "s = 'INSERT INTO data VALUES ' + \",\".join(row)\n"
   ]
  },
  {
   "cell_type": "code",
   "execution_count": 15,
   "metadata": {},
   "outputs": [],
   "source": [
    "cur.execute(s)"
   ]
  },
  {
   "cell_type": "markdown",
   "metadata": {},
   "source": [
    "# Permissions"
   ]
  },
  {
   "cell_type": "code",
   "execution_count": 16,
   "metadata": {},
   "outputs": [],
   "source": [
    "cur.execute('REVOKE ALL ON data FROM vipul')"
   ]
  },
  {
   "cell_type": "code",
   "execution_count": 17,
   "metadata": {},
   "outputs": [],
   "source": [
    "cur.execute('REVOKE ALL on data FROM other')"
   ]
  },
  {
   "cell_type": "code",
   "execution_count": 18,
   "metadata": {},
   "outputs": [],
   "source": [
    "cur.execute('GRANT ALL ON data TO vipul')"
   ]
  },
  {
   "cell_type": "code",
   "execution_count": 19,
   "metadata": {},
   "outputs": [],
   "source": [
    "cur.execute('GRANT SELECT ON data to other')\n"
   ]
  },
  {
   "cell_type": "code",
   "execution_count": 20,
   "metadata": {},
   "outputs": [],
   "source": [
    "conn.close()"
   ]
  }
 ],
 "metadata": {
  "kernelspec": {
   "display_name": "ds",
   "language": "python",
   "name": "ds"
  },
  "language_info": {
   "codemirror_mode": {
    "name": "ipython",
    "version": 3
   },
   "file_extension": ".py",
   "mimetype": "text/x-python",
   "name": "python",
   "nbconvert_exporter": "python",
   "pygments_lexer": "ipython3",
   "version": "3.6.7"
  }
 },
 "nbformat": 4,
 "nbformat_minor": 2
}
